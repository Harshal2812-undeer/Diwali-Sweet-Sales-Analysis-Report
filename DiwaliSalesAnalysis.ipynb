{
 "cells": [
  {
   "cell_type": "code",
   "execution_count": 2,
   "id": "41ec2aea-2721-4167-a87c-5195523400f5",
   "metadata": {},
   "outputs": [],
   "source": [
    "import pandas as pd"
   ]
  },
  {
   "cell_type": "code",
   "execution_count": 18,
   "id": "99e68e14-fa73-4dad-a1a6-c11cc787cfae",
   "metadata": {},
   "outputs": [],
   "source": [
    "# Load the dataset\n",
    "data = pd.read_csv(r\"C:\\Users\\Lenovo\\Documents\\Sql projects\\diwali_sweet_shop_sales.csv\")"
   ]
  },
  {
   "cell_type": "code",
   "execution_count": 19,
   "id": "4686afe7-e822-4ce3-9cd7-e6530f469ceb",
   "metadata": {},
   "outputs": [],
   "source": [
    "# Data Cleaning\n",
    "# Remove any duplicate rows\n",
    "data.drop_duplicates(inplace=True)"
   ]
  },
  {
   "cell_type": "code",
   "execution_count": 20,
   "id": "800e4da0-a764-43ba-8542-4ded808ba0b6",
   "metadata": {},
   "outputs": [],
   "source": [
    "# Handle missing values\n",
    "data.dropna(inplace=True)  "
   ]
  },
  {
   "cell_type": "code",
   "execution_count": 21,
   "id": "29b189cd-589a-429f-aa3a-31840185e0b7",
   "metadata": {},
   "outputs": [],
   "source": [
    "# Convert data types if needed\n",
    "data['Minimum Price'] = data['Minimum Price'].astype(float)\n",
    "data['Vendor\\'s Margin'] = data['Vendor\\'s Margin'].astype(float)\n",
    "data['Total Price'] = data['Total Price'].astype(float)\n",
    "data['Total Sell'] = data['Total Sell'].astype(int)"
   ]
  },
  {
   "cell_type": "code",
   "execution_count": 22,
   "id": "45c10808-3144-49a6-8f4c-fdcc21364141",
   "metadata": {},
   "outputs": [],
   "source": [
    "# Generate cleaned dataset file\n",
    "cleaned_data = data.copy()\n",
    "cleaned_data.to_csv(r\"C:\\Users\\Lenovo\\Downloads\\cleaned_diwali_sweet_shop_sales.csv\", index=False)"
   ]
  },
  {
   "cell_type": "code",
   "execution_count": null,
   "id": "f7ba712c-26ab-4aaf-9033-4b96356f0685",
   "metadata": {},
   "outputs": [],
   "source": []
  }
 ],
 "metadata": {
  "kernelspec": {
   "display_name": "Python 3 (ipykernel)",
   "language": "python",
   "name": "python3"
  },
  "language_info": {
   "codemirror_mode": {
    "name": "ipython",
    "version": 3
   },
   "file_extension": ".py",
   "mimetype": "text/x-python",
   "name": "python",
   "nbconvert_exporter": "python",
   "pygments_lexer": "ipython3",
   "version": "3.11.7"
  }
 },
 "nbformat": 4,
 "nbformat_minor": 5
}
